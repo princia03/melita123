{
  "nbformat": 4,
  "nbformat_minor": 0,
  "metadata": {
    "colab": {
      "name": "day 1 session 2 ",
      "provenance": [],
      "authorship_tag": "ABX9TyMjyeCyygcwwtEBLIDKMjtc",
      "include_colab_link": true
    },
    "kernelspec": {
      "name": "python3",
      "display_name": "Python 3"
    }
  },
  "cells": [
    {
      "cell_type": "markdown",
      "metadata": {
        "id": "view-in-github",
        "colab_type": "text"
      },
      "source": [
        "<a href=\"https://colab.research.google.com/github/princia03/melita123/blob/master/day_1_session_2.ipynb\" target=\"_parent\"><img src=\"https://colab.research.google.com/assets/colab-badge.svg\" alt=\"Open In Colab\"/></a>"
      ]
    },
    {
      "cell_type": "code",
      "metadata": {
        "id": "bfuB2rNWTnm4",
        "colab_type": "code",
        "colab": {
          "base_uri": "https://localhost:8080/",
          "height": 119
        },
        "outputId": "e10dd6e3-3e9d-4936-df10-346e043af5bc"
      },
      "source": [
        "\n",
        "n=int(input(\"Enter number:\"));\n",
        "for i in range(n+1):\n",
        "    c=i\n",
        "    for j in range(1,i+1):\n",
        "        print(c, end=\" \")\n",
        "        c=c+1\n",
        "    print('')"
      ],
      "execution_count": 2,
      "outputs": [
        {
          "output_type": "stream",
          "text": [
            "Enter number:4\n",
            "\n",
            "1 \n",
            "2 3 \n",
            "3 4 5 \n",
            "4 5 6 7 \n"
          ],
          "name": "stdout"
        }
      ]
    },
    {
      "cell_type": "code",
      "metadata": {
        "id": "-lOIyn5WT7vF",
        "colab_type": "code",
        "colab": {
          "base_uri": "https://localhost:8080/",
          "height": 85
        },
        "outputId": "7b70922b-e694-48e7-cf46-6f0dfcd9d3e3"
      },
      "source": [
        "rows = 4\n",
        "for i in range(0, rows):\n",
        "    for j in range(0, i + 1):\n",
        "        print(\"*\", end=' ')\n",
        "\n",
        "    print(\"\\r\")"
      ],
      "execution_count": 3,
      "outputs": [
        {
          "output_type": "stream",
          "text": [
            "* \r\n",
            "* * \r\n",
            "* * * \r\n",
            "* * * * \r\n"
          ],
          "name": "stdout"
        }
      ]
    },
    {
      "cell_type": "code",
      "metadata": {
        "id": "6VsqdlGgUL1o",
        "colab_type": "code",
        "colab": {
          "base_uri": "https://localhost:8080/",
          "height": 136
        },
        "outputId": "a96d10ae-00d0-4358-df5b-c0bfb08b4eb3"
      },
      "source": [
        "n=int(input(\"Enter number:\"));\n",
        "for i in range(n+1):\n",
        "    c=n-i+1\n",
        "    for j in range(n,n-i,-1):\n",
        "        print(c, end=\" \")\n",
        "        c=c+1\n",
        "    print('')"
      ],
      "execution_count": 4,
      "outputs": [
        {
          "output_type": "stream",
          "text": [
            "Enter number:5\n",
            "\n",
            "5 \n",
            "4 5 \n",
            "3 4 5 \n",
            "2 3 4 5 \n",
            "1 2 3 4 5 \n"
          ],
          "name": "stdout"
        }
      ]
    },
    {
      "cell_type": "code",
      "metadata": {
        "id": "8NZ71zRZUP9v",
        "colab_type": "code",
        "colab": {
          "base_uri": "https://localhost:8080/",
          "height": 119
        },
        "outputId": "98bbe12c-cf9d-4c2f-96f3-53176e830ce8"
      },
      "source": [
        "rows = 5\n",
        "for i in range(0, rows + 1):\n",
        "    for j in range(rows - i, 0, -1):\n",
        "        print(j, end=' ')\n",
        "    print()"
      ],
      "execution_count": 5,
      "outputs": [
        {
          "output_type": "stream",
          "text": [
            "5 4 3 2 1 \n",
            "4 3 2 1 \n",
            "3 2 1 \n",
            "2 1 \n",
            "1 \n",
            "\n"
          ],
          "name": "stdout"
        }
      ]
    },
    {
      "cell_type": "code",
      "metadata": {
        "id": "2Wmx9DZEUWAg",
        "colab_type": "code",
        "colab": {
          "base_uri": "https://localhost:8080/",
          "height": 153
        },
        "outputId": "9ddb63f5-03eb-4db7-87c2-2bfe3dac7a12"
      },
      "source": [
        "n=int(input(\"Enter number:\"));\n",
        "for i in range(n):\n",
        "    for j in range(i+1,n+1,1):\n",
        "        print(j, end=\" \")\n",
        "    print('')\n",
        "for i in range(2,n+1):\n",
        "    c=n-i+1\n",
        "    for j in range(n,n-i,-1):\n",
        "        print(c, end=\" \")\n",
        "        c=c+1\n",
        "    print('')"
      ],
      "execution_count": 6,
      "outputs": [
        {
          "output_type": "stream",
          "text": [
            "Enter number:4\n",
            "1 2 3 4 \n",
            "2 3 4 \n",
            "3 4 \n",
            "4 \n",
            "3 4 \n",
            "2 3 4 \n",
            "1 2 3 4 \n"
          ],
          "name": "stdout"
        }
      ]
    },
    {
      "cell_type": "code",
      "metadata": {
        "id": "vKDarkaAUZlI",
        "colab_type": "code",
        "colab": {
          "base_uri": "https://localhost:8080/",
          "height": 51
        },
        "outputId": "29ce6e0c-58ef-4452-ff7e-9a665b7f0828"
      },
      "source": [
        "str = input(\"Enter a string: \")\n",
        "counter = 0\n",
        "for s in str:\n",
        "      counter = counter+1\n",
        "print(\"Length of the input string is:\", counter)"
      ],
      "execution_count": 7,
      "outputs": [
        {
          "output_type": "stream",
          "text": [
            "Enter a string: princia\n",
            "Length of the input string is: 7\n"
          ],
          "name": "stdout"
        }
      ]
    },
    {
      "cell_type": "code",
      "metadata": {
        "id": "HrduUvqwUlEh",
        "colab_type": "code",
        "colab": {
          "base_uri": "https://localhost:8080/",
          "height": 102
        },
        "outputId": "d4bb695a-ca2c-4acc-93d2-71f06d21e65f"
      },
      "source": [
        "string=input(\"Enter string:\")\n",
        "char=0\n",
        "word=1\n",
        "for i in string:\n",
        "      char=char+1\n",
        "      if(i==' '):\n",
        "            word=word+1\n",
        "print(\"Number of words in the string:\")\n",
        "print(word)\n",
        "print(\"Number of characters in the string:\")\n",
        "print(char)"
      ],
      "execution_count": 8,
      "outputs": [
        {
          "output_type": "stream",
          "text": [
            "Enter string:abcd\n",
            "Number of words in the string:\n",
            "1\n",
            "Number of characters in the string:\n",
            "4\n"
          ],
          "name": "stdout"
        }
      ]
    },
    {
      "cell_type": "code",
      "metadata": {
        "id": "MrFn-QOtUtG1",
        "colab_type": "code",
        "colab": {
          "base_uri": "https://localhost:8080/",
          "height": 34
        },
        "outputId": "7162133f-852c-4310-c4ce-ccdaf1d604d3"
      },
      "source": [
        "string = \"My College name is Alva's Institute of Engineering and technology\"\n",
        "substring = \"is\"\n",
        "\n",
        "count = string.count(substring)\n",
        "\n",
        "# print count\n",
        "print(\"The count is:\", count)"
      ],
      "execution_count": 9,
      "outputs": [
        {
          "output_type": "stream",
          "text": [
            "The count is: 1\n"
          ],
          "name": "stdout"
        }
      ]
    },
    {
      "cell_type": "code",
      "metadata": {
        "id": "_PplonLFU0xk",
        "colab_type": "code",
        "colab": {}
      },
      "source": [
        ""
      ],
      "execution_count": null,
      "outputs": []
    }
  ]
}